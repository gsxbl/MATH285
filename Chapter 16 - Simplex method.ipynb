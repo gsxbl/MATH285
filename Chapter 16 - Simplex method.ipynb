{
 "cells": [
  {
   "cell_type": "markdown",
   "id": "chronic-convenience",
   "metadata": {},
   "source": [
    "# Chapter 16 - Simplex method\n",
    "\n",
    "In this notebook, we will implement the (revised) simplex method. This is an algorithm for solving a linear program of the form\n",
    "\n",
    "\\begin{equation}\n",
    "\\min \\mathbf{c}^T\\mathbf{x}\n",
    "\\end{equation}\n",
    "subject to\n",
    "\\begin{eqnarray}\n",
    "A\\mathbf{x} &=& \\mathbf{b} \\\\\n",
    "\\mathbf{x} &\\geq& \\mathbf{0}.\n",
    "\\end{eqnarray}\n",
    "\n",
    "There are a lot of details in the algorithm which can go wrong if not everything is carefully addressed. This is beyond the scope of the course, and we will simply aim at constructing the basic algorithm which can handle a simple case "
   ]
  },
  {
   "cell_type": "code",
   "execution_count": 1,
   "id": "eligible-psychiatry",
   "metadata": {},
   "outputs": [],
   "source": [
    "import numpy as np\n",
    "\n",
    "from LP.simplex import solve"
   ]
  },
  {
   "cell_type": "markdown",
   "id": "comprehensive-disease",
   "metadata": {},
   "source": [
    "Let us define the matrix $A$ and the vectors $\\mathbf{b}$ and $\\mathbf{c}$."
   ]
  },
  {
   "cell_type": "code",
   "execution_count": 2,
   "id": "inappropriate-bacon",
   "metadata": {},
   "outputs": [],
   "source": [
    "A = np.array([[1, 1, 1, 0], [2, 0.5, 0, 1]])\n",
    "b = np.array([5, 8])\n",
    "c = np.array([-4, -2, 0, 0])"
   ]
  },
  {
   "cell_type": "code",
   "execution_count": 3,
   "id": "frozen-turkish",
   "metadata": {},
   "outputs": [
    {
     "name": "stdout",
     "output_type": "stream",
     "text": [
      "[0, 2]\n",
      "[1, 3]\n"
     ]
    },
    {
     "data": {
      "text/plain": [
       "array([3.66666667, 1.33333333])"
      ]
     },
     "execution_count": 3,
     "metadata": {},
     "output_type": "execute_result"
    }
   ],
   "source": [
    "#Solve using the LP solver\n",
    "solve(A,b,c)"
   ]
  }
 ],
 "metadata": {
  "kernelspec": {
   "display_name": "Python 3",
   "language": "python",
   "name": "python3"
  },
  "language_info": {
   "codemirror_mode": {
    "name": "ipython",
    "version": 3
   },
   "file_extension": ".py",
   "mimetype": "text/x-python",
   "name": "python",
   "nbconvert_exporter": "python",
   "pygments_lexer": "ipython3",
   "version": "3.8.5"
  }
 },
 "nbformat": 4,
 "nbformat_minor": 5
}
