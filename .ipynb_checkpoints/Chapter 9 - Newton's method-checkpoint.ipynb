{
 "cells": [
  {
   "cell_type": "markdown",
   "metadata": {},
   "source": [
    "# Chapter 9 - Newton's method\n",
    "\n",
    "\n",
    "In this chapter, we will implement Newton's method. For a general minimization problem \n",
    "$$\n",
    "\\min_{\\mathbf{x} \\in \\mathbb{R}^n} f(\\mathbf{x}),\n",
    "$$\n",
    "Newton's method gives the algorithm\n",
    "$$\n",
    "\\left\\{\n",
    "\\begin{eqnarray}\n",
    "&&\\mathbf{d}_k &=& F^{-1}(\\mathbf{x}_k)\\nabla f(\\mathbf{x}_k), \\\\\n",
    "&&\\mathbf{x}_{k+1} &=& \\mathbf{x}_k - \\mathbf{d}_k,\n",
    "\\end{eqnarray}\\right.\n",
    "$$\n",
    "where $F(\\mathbf{x})$ is the Hessian of $f$.\n"
   ]
  },
  {
   "cell_type": "code",
   "execution_count": 1,
   "metadata": {},
   "outputs": [],
   "source": [
    "import numpy as np\n",
    "import matplotlib.pyplot as plt\n",
    "%matplotlib inline\n",
    "\n",
    "# You are to implement this function\n",
    "from gradientMethods.newton import solve"
   ]
  },
  {
   "cell_type": "markdown",
   "metadata": {},
   "source": [
    "## Rosenbrock's Function\n",
    "\n",
    "We will first consider the so-called Rosenbrock's function (see Exercise 9.4 in the book), given by\n",
    "$$\n",
    "f(\\mathbf{x}) = 100(x_2-x_1^2)^2 + (1-x_1)^2.\n",
    "$$\n",
    "\n",
    "The objective is to minimize the function over $\\mathbb{R}^2$.\n"
   ]
  },
  {
   "cell_type": "code",
   "execution_count": 2,
   "metadata": {},
   "outputs": [],
   "source": [
    "def grad_rosenbrock(x):\n",
    "    x1, x2 = x #Unpack values\n",
    "    return np.array([2*x1*(1-200*(x2-x1**2))-2, 200*(x2-x1**2)]) \n",
    "\n",
    "def hessian_rosenbrock(x):\n",
    "    x1, x2 = x #Unpack values\n",
    "    return np.array([[2*(1-200*(x2-x1**2))+800*x1**2, -400*x1], [-400*x1, 200]])"
   ]
  },
  {
   "cell_type": "code",
   "execution_count": 8,
   "metadata": {},
   "outputs": [],
   "source": [
    "xks = solve(grad_rosenbrock, hessian_rosenbrock, x_init=np.array([-1,3]))"
   ]
  },
  {
   "cell_type": "markdown",
   "metadata": {},
   "source": [
    "## Nonlinear least squares\n",
    "\n",
    "We will demonstrate how Newton's method can be used to solve a nonlinear regression problem. In general, if we have observations $\\{(t_i, y_i)\\}$, we want to fit a model\n",
    "$$\n",
    "y = A\\sin(\\omega t + \\rho).\n",
    "$$\n",
    "To obtain the parameters $\\mathbf{x} = [A, \\omega, \\rho]^T$, we aim to minimize\n",
    "$$\n",
    "\\min_\\mathbf{x} \\Sigma_{i=1}^n (y_i - A\\sin(\\omega t_i + \\rho))^2.\n",
    "$$\n",
    "This is a nonlinear least squares problem."
   ]
  },
  {
   "cell_type": "code",
   "execution_count": 11,
   "metadata": {},
   "outputs": [],
   "source": [
    "# You are now to implement this function\n",
    "from gradientMethods.newton import solve_nls"
   ]
  },
  {
   "cell_type": "markdown",
   "metadata": {},
   "source": [
    "### Generate data\n",
    "\n",
    "We will start by generating the data in order to get an idea of what this looks lik"
   ]
  },
  {
   "cell_type": "code",
   "execution_count": 2,
   "metadata": {},
   "outputs": [],
   "source": [
    "a = 0\n",
    "b = 3*np.pi\n",
    "n = 30\n",
    "\n",
    "A = 2\n",
    "omega = 1\n",
    "rho = np.pi/4\n",
    "\n",
    "t = np.linspace(a,b,n)\n",
    "y = A*np.sin(omega*t + rho) + 0.1*np.random.randn(n) #The second term on the rhs is noise"
   ]
  },
  {
   "cell_type": "markdown",
   "metadata": {},
   "source": [
    "and plot the data to get an idea of how this looks like"
   ]
  },
  {
   "cell_type": "code",
   "execution_count": 3,
   "metadata": {},
   "outputs": [
    {
     "data": {
      "image/png": "[encoded data removed]",
      "text/plain": [
       "<Figure size 432x288 with 1 Axes>"
      ]
     },
     "metadata": {
      "needs_background": "light"
     },
     "output_type": "display_data"
    }
   ],
   "source": [
    "plt.plot(t,y,'*')\n",
    "plt.plot(t,A*np.sin(omega*t+rho),'r-')\n",
    "plt.show()"
   ]
  },
  {
   "cell_type": "markdown",
   "metadata": {},
   "source": [
    "## Newton's method\n",
    "\n",
    "We will compute the gradient and Hessian of $f(\\mathbf{x};t_i)$ in order to derive Newton's method. To do this, we will follow the steps of Example 9.2 (p. 169-171) in the textbook.\n",
    "\n",
    "### Gradient\n",
    "\n",
    "Let us define\n",
    "$$\n",
    "f(\\mathbf{x}) = \\sum_{i=1}^n (y_i - A\\sin(\\omega t_i + \\rho))^2,\n",
    "$$\n",
    "and we write the residual\n",
    "$$\n",
    "r_i(\\mathbf{x}) = y_i - A\\sin(\\omega t_i + \\rho).\n",
    "$$\n",
    "Combining the two expressions above, we get the compact expression\n",
    "$$\n",
    "f(\\mathbf{x}) = \\sum_{i=1}^n r_i^2(\\mathbf{x}).\n",
    "$$\n",
    "Consequently,\n",
    "$$\n",
    "(\\nabla f(\\mathbf{x}))_j = \\frac{\\partial f}{\\partial x_j}(\\mathbf{x}) = 2\\sum_{i=1}^n r_i(\\mathbf{x})\\frac{\\partial r_i}{\\partial x_j}(\\mathbf{x})\n",
    "$$\n",
    "If we denote the Jacobian of $\\mathbf{r}$ as\n",
    "$$\n",
    "J(\\mathbf{x}) = \\begin{bmatrix} \\frac{\\partial r_1}{\\partial x_1}(\\mathbf{x}) & \\frac{\\partial r_1}{\\partial x_2}(\\mathbf{x}) & \\frac{\\partial r_1}{\\partial x_3}(\\mathbf{x}) \\\\ \\vdots & \\vdots & \\vdots \\\\ \\frac{\\partial r_n}{\\partial x_1}(\\mathbf{x}) & \\frac{\\partial r_n}{\\partial x_2}(\\mathbf{x}) & \\frac{\\partial r_n}{\\partial x_3}(\\mathbf{x}) \\end{bmatrix}.\n",
    "$$\n",
    "Hence, we can write the gradient of $f$ as\n",
    "$$\n",
    "\\nabla f(\\mathbf{x}) = 2J(\\mathbf{x})^T\\mathbf{r}(\\mathbf{x})\n",
    "$$"
   ]
  },
  {
   "cell_type": "markdown",
   "metadata": {},
   "source": [
    "#### Computing the partial derivatives\n",
    "\n",
    "With $x_1 = A$, $x_2 = \\omega$ and $x_3 = \\rho$, we get\n",
    "$$\n",
    "\\frac{\\partial r_i}{\\partial x_1} = -\\sin(\\omega t_i + \\rho)\n",
    "$$\n",
    "$$\n",
    "\\frac{\\partial r_i}{\\partial x_2} = -At_i\\cos(\\omega t_i + \\rho)\n",
    "$$\n",
    "$$\n",
    "\\frac{\\partial r_i}{\\partial x_3} = -A\\cos(\\omega t_i + \\rho)\n",
    "$$"
   ]
  },
  {
   "cell_type": "code",
   "execution_count": 4,
   "metadata": {},
   "outputs": [],
   "source": [
    "def grad_f(x,t,y):\n",
    "    A, omega, rho = x #Unpack values\n",
    "    r = y - A*np.sin(omega*t+rho)\n",
    "    Jx = np.stack(((-np.sin(omega*t+rho)), (-A*t*np.cos(omega*t+rho)), (-A*np.cos(omega*t+rho))))\n",
    "    \n",
    "    return Jx, 2*Jx.dot(r) #We return both the Jacobian of r and the gradient of f"
   ]
  },
  {
   "cell_type": "markdown",
   "metadata": {},
   "source": [
    "### Hessian\n",
    "\n",
    "We now compute the Hessian of $f$. We obtain\n",
    "$$\n",
    "\\begin{eqnarray}\n",
    "  \\frac{\\partial^2 f}{\\partial x_k \\partial x_j}(\\mathbf{x}) &=& \\frac{\\partial}{\\partial x_k}\\left(\\frac{\\partial f}{\\partial x_j}(\\mathbf{x})\\right) \\\\ &=& \\frac{\\partial}{\\partial x_k}\\left(2\\sum_{i=1}^n r_i(\\mathbf{x})\\frac{\\partial r_i}{\\partial x_j}(\\mathbf{x})\\right) \\\\ &=& 2 \\sum_{i=1}^n \\left(\\frac{\\partial r_i}{\\partial x_k}(\\mathbf{x})\\frac{\\partial r_i}{\\partial x_j}(\\mathbf{x}) + r_i(\\mathbf{x})\\frac{\\partial^2 r_i}{\\partial x_k\\partial x_j}(\\mathbf{x})\\right).\n",
    "\\end{eqnarray}\n",
    "$$\n",
    "If we define the matrix $S(\\mathbf{x})$ as the matrix with $(k,j)$-component\n",
    "$$\n",
    "\\sum_{i=1}^n r_i(\\mathbf{x}\\frac{\\partial^2 r_i}{\\partial x_k \\partial x_j} (\\mathbf{x}),\n",
    "$$\n",
    "the Hessian of $f$ can be expressed as\n",
    "$$\n",
    "D^2 f(\\mathbf{x}) = 2(J(\\mathbf{x})^T J(\\mathbf{x}) + S(\\mathbf{x})).\n",
    "$$\n",
    "\n",
    "#### Computing second-order derivatives\n",
    "\n",
    "$$\n",
    "\\frac{\\partial^2 r_i}{\\partial x_1^2} = 0, \\quad \\frac{\\partial^2 r_i}{\\partial x_2\\partial x_1} = -t_i\\cos(\\omega t_i + \\rho), \\quad \\frac{\\partial^2 r_i}{\\partial x_3\\partial x_1} = -\\cos(\\omega t_i + \\rho), \n",
    "$$\n",
    "$$\n",
    "\\frac{\\partial^2 r_i}{\\partial x_1\\partial x_2} = -t_i\\cos(\\omega t_i + \\rho), \\quad \\frac{\\partial^2 r_i}{\\partial x_2^2} = At_i^2\\sin(\\omega t_i + \\rho), \\quad \\frac{\\partial^2 r_i}{\\partial x_3\\partial x_2} = At_i\\sin(\\omega t_i + \\rho), \n",
    "$$\n",
    "$$\n",
    "\\frac{\\partial^2 r_i}{\\partial x_1\\partial x_3} = -\\cos(\\omega t_i + \\rho), \\quad \\frac{\\partial^2 r_i}{\\partial x_2\\partial x_3} = At_i\\sin(\\omega t_i + \\rho), \\quad \\frac{\\partial^2 r_i}{\\partial x_3^2} = A\\sin(\\omega t_i + \\rho), \n",
    "$$"
   ]
  },
  {
   "cell_type": "code",
   "execution_count": 5,
   "metadata": {},
   "outputs": [],
   "source": [
    "def hessian_f(x,t,y,Jx):\n",
    "    A, omega, rho = x #Unpack values\n",
    "    r = y - A*np.sin(omega*t+rho)\n",
    "    \n",
    "    S = np.zeros((3,3))\n",
    "    S[0,0] = 0\n",
    "    S[0,1] = np.sum(r*(-t*np.cos(omega*t+rho)))\n",
    "    S[0,2] = np.sum(r*(-np.cos(omega*t+rho)))\n",
    "    S[1,0] = S[0,1]\n",
    "    S[1,1] = np.sum(r*A*t**2*np.sin(omega*t+rho))\n",
    "    S[1,2] = np.sum(r*A*t*np.sin(omega*t+rho))\n",
    "    S[2,0] = S[0,2]\n",
    "    S[2,1] = S[1,2]\n",
    "    S[2,2] = np.sum(r*A*np.sin(omega*t+rho))\n",
    "    \n",
    "    return 2*(Jx.dot(np.transpose(Jx))+S)"
   ]
  },
  {
   "cell_type": "code",
   "execution_count": 6,
   "metadata": {},
   "outputs": [],
   "source": [
    "# Call Newton's method for nonlinear least squares\n",
    "xks = solve_nls(grad_f, hessian_f, np.stack((t,y)), x_init=np.ones(3))\n",
    "\n",
    "# Extract final iteration\n",
    "x_opt = xks[-1]"
   ]
  },
  {
   "cell_type": "code",
   "execution_count": 7,
   "metadata": {},
   "outputs": [
    {
     "data": {
      "image/png": "[encoded data removed]",
      "text/plain": [
       "<Figure size 432x288 with 1 Axes>"
      ]
     },
     "metadata": {
      "needs_background": "light"
     },
     "output_type": "display_data"
    }
   ],
   "source": [
    "plt.plot(t,y,'*')\n",
    "plt.plot(t,x_opt[0]*np.sin(x_opt[1]*t+x_opt[2]),'r-')\n",
    "plt.show()"
   ]
  }
 ],
 "metadata": {
  "kernelspec": {
   "display_name": "Python 3",
   "language": "python",
   "name": "python3"
  },
  "language_info": {
   "codemirror_mode": {
    "name": "ipython",
    "version": 3
   },
   "file_extension": ".py",
   "mimetype": "text/x-python",
   "name": "python",
   "nbconvert_exporter": "python",
   "pygments_lexer": "ipython3",
   "version": "3.8.5"
  }
 },
 "nbformat": 4,
 "nbformat_minor": 2
}
