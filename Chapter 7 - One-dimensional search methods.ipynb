{
 "cells": [
  {
   "cell_type": "markdown",
   "metadata": {},
   "source": [
    "# Chapter 7 - One dimensional search methods"
   ]
  },
  {
   "cell_type": "markdown",
   "metadata": {},
   "source": [
    "This notebook demonstrates some standard search methods for minimization of one-dimensional functions $$f: \\mathbb{R} \\rightarrow \\mathbb{R}$$.\n",
    "\n",
    "More specifically, you can solve the optimization problem\n",
    "$$\\begin{equation}\n",
    "\\min_{x \\in [a,b]} f(x)\n",
    "\\end{equation}\n",
    "$$\n",
    "using either\n",
    "* Bisection method,\n",
    "* Newton's method, or\n",
    "* Secant method\n"
   ]
  },
  {
   "cell_type": "code",
   "execution_count": 1,
   "metadata": {},
   "outputs": [],
   "source": [
    "from searchMethods.bisection import solve as bisection_solve\n",
    "from searchMethods.newton import solve as newton_solve\n",
    "from searchMethods.secant import solve as secant_solve"
   ]
  },
  {
   "cell_type": "markdown",
   "metadata": {},
   "source": [
    "## Bisection method\n",
    "\n",
    "We want to minimize $$f(x) = x^2$$ over the interval $[-1,5]$. The true solution $x^* = 0$."
   ]
  },
  {
   "cell_type": "code",
   "execution_count": 2,
   "metadata": {},
   "outputs": [],
   "source": [
    "# Compute the derivative of f\n",
    "def f_deriv(x):\n",
    "    return 2*x "
   ]
  },
  {
   "cell_type": "code",
   "execution_count": 3,
   "metadata": {},
   "outputs": [
    {
     "name": "stdout",
     "output_type": "stream",
     "text": [
      "After 1 iteration(s), the estimate xk = 0.5\n",
      "After 2 iteration(s), the estimate xk = -0.25\n",
      "After 3 iteration(s), the estimate xk = 0.125\n",
      "After 4 iteration(s), the estimate xk = -0.0625\n",
      "After 5 iteration(s), the estimate xk = 0.03125\n",
      "After 6 iteration(s), the estimate xk = -0.015625\n",
      "After 7 iteration(s), the estimate xk = 0.0078125\n",
      "After 8 iteration(s), the estimate xk = -0.00390625\n",
      "After 9 iteration(s), the estimate xk = 0.001953125\n",
      "After 10 iteration(s), the estimate xk = -0.0009765625\n",
      "After 11 iteration(s), the estimate xk = 0.00048828125\n",
      "After 12 iteration(s), the estimate xk = -0.000244140625\n",
      "After 13 iteration(s), the estimate xk = 0.0001220703125\n",
      "After 14 iteration(s), the estimate xk = -6.103515625e-05\n",
      "After 15 iteration(s), the estimate xk = 3.0517578125e-05\n",
      "After 16 iteration(s), the estimate xk = -1.52587890625e-05\n",
      "After 17 iteration(s), the estimate xk = 7.62939453125e-06\n",
      "After 18 iteration(s), the estimate xk = -3.814697265625e-06\n",
      "After 19 iteration(s), the estimate xk = 1.9073486328125e-06\n",
      "After 20 iteration(s), the estimate xk = -9.5367431640625e-07\n",
      "After 21 iteration(s), the estimate xk = 4.76837158203125e-07\n",
      "After 22 iteration(s), the estimate xk = -2.384185791015625e-07\n",
      "After 23 iteration(s), the estimate xk = 1.1920928955078125e-07\n",
      "Solution found to tolerance level! The estimate of the minimmum is : 1.1920928955078125e-07\n"
     ]
    },
    {
     "data": {
      "text/plain": [
       "1.1920928955078125e-07"
      ]
     },
     "execution_count": 3,
     "metadata": {},
     "output_type": "execute_result"
    }
   ],
   "source": [
    "bisection_solve(f_deriv, -1, 5, verbose=1)"
   ]
  },
  {
   "cell_type": "markdown",
   "metadata": {},
   "source": [
    "## Newton's method\n",
    "\n",
    "We want to minimize $$f(x) = (x-1)^4$$. The true solution $x^* = 1$."
   ]
  },
  {
   "cell_type": "code",
   "execution_count": 4,
   "metadata": {},
   "outputs": [],
   "source": [
    "#Compute the derivative of f\n",
    "def f_deriv(x):\n",
    "    return 4*(x-1)**3"
   ]
  },
  {
   "cell_type": "code",
   "execution_count": 5,
   "metadata": {},
   "outputs": [],
   "source": [
    "#Compute the second derivative of f\n",
    "def f_dderiv(x):\n",
    "    return 12*(x-1)**2"
   ]
  },
  {
   "cell_type": "code",
   "execution_count": 6,
   "metadata": {},
   "outputs": [
    {
     "name": "stdout",
     "output_type": "stream",
     "text": [
      "After 1 iteration(s), the estimate xk = 0.3333333333333333\n",
      "After 2 iteration(s), the estimate xk = 0.5555555555555556\n",
      "After 3 iteration(s), the estimate xk = 0.7037037037037037\n",
      "After 4 iteration(s), the estimate xk = 0.8024691358024691\n",
      "After 5 iteration(s), the estimate xk = 0.8683127572016461\n",
      "After 6 iteration(s), the estimate xk = 0.9122085048010974\n",
      "After 7 iteration(s), the estimate xk = 0.9414723365340649\n",
      "After 8 iteration(s), the estimate xk = 0.9609815576893767\n",
      "After 9 iteration(s), the estimate xk = 0.9739877051262511\n",
      "After 10 iteration(s), the estimate xk = 0.9826584700841674\n",
      "After 11 iteration(s), the estimate xk = 0.9884389800561116\n",
      "After 12 iteration(s), the estimate xk = 0.9922926533707411\n",
      "After 13 iteration(s), the estimate xk = 0.9948617689138274\n",
      "After 14 iteration(s), the estimate xk = 0.9965745126092183\n",
      "After 15 iteration(s), the estimate xk = 0.9977163417394789\n",
      "After 16 iteration(s), the estimate xk = 0.9984775611596526\n",
      "After 17 iteration(s), the estimate xk = 0.9989850407731017\n",
      "After 18 iteration(s), the estimate xk = 0.9993233605154012\n",
      "After 19 iteration(s), the estimate xk = 0.9995489070102674\n",
      "After 20 iteration(s), the estimate xk = 0.9996992713401783\n",
      "After 21 iteration(s), the estimate xk = 0.9997995142267856\n",
      "After 22 iteration(s), the estimate xk = 0.999866342817857\n",
      "After 23 iteration(s), the estimate xk = 0.9999108952119047\n",
      "After 24 iteration(s), the estimate xk = 0.9999405968079365\n",
      "After 25 iteration(s), the estimate xk = 0.9999603978719577\n",
      "After 26 iteration(s), the estimate xk = 0.9999735985813051\n",
      "After 27 iteration(s), the estimate xk = 0.9999823990542034\n",
      "After 28 iteration(s), the estimate xk = 0.9999882660361356\n",
      "After 29 iteration(s), the estimate xk = 0.9999921773574237\n",
      "After 30 iteration(s), the estimate xk = 0.9999947849049492\n",
      "After 31 iteration(s), the estimate xk = 0.9999965232699661\n",
      "After 32 iteration(s), the estimate xk = 0.9999976821799774\n",
      "The solution is found! The minimmum is : 0.9999984547866516\n"
     ]
    },
    {
     "data": {
      "text/plain": [
       "0.9999984547866516"
      ]
     },
     "execution_count": 6,
     "metadata": {},
     "output_type": "execute_result"
    }
   ],
   "source": [
    "newton_solve(f_deriv, f_dderiv, x_init=0, verbose=1)"
   ]
  },
  {
   "cell_type": "markdown",
   "metadata": {},
   "source": [
    "## Secant method\n",
    "\n",
    "We will optimize the same problem as for Newton's method. "
   ]
  },
  {
   "cell_type": "code",
   "execution_count": 8,
   "metadata": {},
   "outputs": [
    {
     "name": "stdout",
     "output_type": "stream",
     "text": [
      "After 1 iteration(s), the estimate xk = 0.3690036900369005\n",
      "After 2 iteration(s), the estimate xk = 0.510460718743596\n",
      "After 3 iteration(s), the estimate xk = 0.6343829143200125\n",
      "After 4 iteration(s), the estimate xk = 0.7228736348367758\n",
      "After 5 iteration(s), the estimate xk = 0.7911328972212702\n",
      "After 6 iteration(s), the estimate xk = 0.8422353286993279\n",
      "After 7 iteration(s), the estimate xk = 0.8809347451826869\n",
      "After 8 iteration(s), the estimate xk = 0.9101122326522876\n",
      "After 9 iteration(s), the estimate xk = 0.9321480750391812\n",
      "After 10 iteration(s), the estimate xk = 0.9487794166390824\n",
      "After 11 iteration(s), the estimate xk = 0.961334923269851\n",
      "After 12 iteration(s), the estimate xk = 0.9708125396848842\n",
      "After 13 iteration(s), the estimate xk = 0.977967054755265\n",
      "After 14 iteration(s), the estimate xk = 0.9833678168674576\n",
      "After 15 iteration(s), the estimate xk = 0.987444737819881\n",
      "After 16 iteration(s), the estimate xk = 0.990522312577489\n",
      "After 17 iteration(s), the estimate xk = 0.9928455055558467\n",
      "After 18 iteration(s), the estimate xk = 0.9945992318963232\n",
      "After 19 iteration(s), the estimate xk = 0.9959230807879782\n",
      "After 20 iteration(s), the estimate xk = 0.9969224247368417\n",
      "After 21 iteration(s), the estimate xk = 0.997676807168494\n",
      "After 22 iteration(s), the estimate xk = 0.9982462736168661\n",
      "After 23 iteration(s), the estimate xk = 0.998676151120736\n",
      "After 24 iteration(s), the estimate xk = 0.9990006560475372\n",
      "After 25 iteration(s), the estimate xk = 0.9992456175693931\n",
      "After 26 iteration(s), the estimate xk = 0.9994305335513243\n",
      "After 27 iteration(s), the estimate xk = 0.9995701224962183\n",
      "After 28 iteration(s), the estimate xk = 0.9996754950731732\n",
      "After 29 iteration(s), the estimate xk = 0.9997550384781515\n",
      "After 30 iteration(s), the estimate xk = 0.9998150840180667\n",
      "After 31 iteration(s), the estimate xk = 0.9998604110551065\n",
      "After 32 iteration(s), the estimate xk = 0.9998946274230449\n",
      "After 33 iteration(s), the estimate xk = 0.9999204565950217\n",
      "After 34 iteration(s), the estimate xk = 0.9999399544600847\n",
      "After 35 iteration(s), the estimate xk = 0.9999546729629601\n",
      "After 36 iteration(s), the estimate xk = 0.9999657836320615\n",
      "After 37 iteration(s), the estimate xk = 0.9999741708280231\n",
      "After 38 iteration(s), the estimate xk = 0.9999805021349369\n",
      "After 39 iteration(s), the estimate xk = 0.9999852814971244\n",
      "After 40 iteration(s), the estimate xk = 0.9999888893308986\n",
      "After 41 iteration(s), the estimate xk = 0.9999916128040383\n",
      "After 42 iteration(s), the estimate xk = 0.999993668693086\n",
      "After 43 iteration(s), the estimate xk = 0.9999952206378125\n",
      "After 44 iteration(s), the estimate xk = 0.9999963921662258\n",
      "The solution is found! The minimmum is : 0.9999972765268603\n"
     ]
    },
    {
     "data": {
      "text/plain": [
       "0.9999972765268603"
      ]
     },
     "execution_count": 8,
     "metadata": {},
     "output_type": "execute_result"
    }
   ],
   "source": [
    "secant_solve(f_deriv, x_init0=0, x_init1=0.1, verbose=1)"
   ]
  }
 ],
 "metadata": {
  "kernelspec": {
   "display_name": "Python 3",
   "language": "python",
   "name": "python3"
  },
  "language_info": {
   "codemirror_mode": {
    "name": "ipython",
    "version": 3
   },
   "file_extension": ".py",
   "mimetype": "text/x-python",
   "name": "python",
   "nbconvert_exporter": "python",
   "pygments_lexer": "ipython3",
   "version": "3.7.0"
  }
 },
 "nbformat": 4,
 "nbformat_minor": 2
}
