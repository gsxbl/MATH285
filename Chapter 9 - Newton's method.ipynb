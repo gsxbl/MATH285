{
 "cells": [
  {
   "cell_type": "markdown",
   "metadata": {},
   "source": [
    "# Chapter 9 - Newton's method\n",
    "\n",
    "In this chapter, we will demonstrate how Newton's method can be used to solve a nonlinear regression problem. In general, if we have observations $\\{(t_i, y_i)\\}$, we want to fit a model\n",
    "$$\n",
    "\\min_\\mathbf{x} \\Sigma_{i=1}^n (f(\\mathbf{x};t_i) - y_i)^2.\n",
    "$$\n",
    "In our concrete case, we will assume that $\\mathbf{x} = [A, \\omega, \\rho]^T$, and the function we want to minimize is\n",
    "$$\n",
    "f(\\mathbf{x};t_i) = A\\sin(\\omega t_i + \\rho).\n",
    "$$\n"
   ]
  }
 ],
 "metadata": {
  "kernelspec": {
   "display_name": "Python 3",
   "language": "python",
   "name": "python3"
  },
  "language_info": {
   "codemirror_mode": {
    "name": "ipython",
    "version": 3
   },
   "file_extension": ".py",
   "mimetype": "text/x-python",
   "name": "python",
   "nbconvert_exporter": "python",
   "pygments_lexer": "ipython3",
   "version": "3.7.0"
  }
 },
 "nbformat": 4,
 "nbformat_minor": 2
}
